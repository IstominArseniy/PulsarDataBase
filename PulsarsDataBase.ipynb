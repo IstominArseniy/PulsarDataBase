{
 "cells": [
  {
   "cell_type": "code",
   "execution_count": 335,
   "metadata": {},
   "outputs": [
    {
     "name": "stdout",
     "output_type": "stream",
     "text": [
      "The autoreload extension is already loaded. To reload it, use:\n",
      "  %reload_ext autoreload\n"
     ]
    }
   ],
   "source": [
    " %load_ext autoreload"
   ]
  },
  {
   "cell_type": "code",
   "execution_count": 336,
   "metadata": {},
   "outputs": [],
   "source": [
    "%autoreload 2"
   ]
  },
  {
   "cell_type": "code",
   "execution_count": 337,
   "metadata": {},
   "outputs": [],
   "source": [
    "import numpy as np\n",
    "from matplotlib import pyplot as plt\n",
    "import pandas as pd\n",
    "import urllib\n",
    "from bs4 import BeautifulSoup\n",
    "import requests\n",
    "from astropy.io import fits\n",
    "from astropy.table import Table\n",
    "import glob\n",
    "import scipy.integrate\n",
    "import scipy.stats\n",
    "import scipy.interpolate\n",
    "import scipy.optimize\n",
    "import scipy.signal\n",
    "import scipy.ndimage\n",
    "import scipy.spatial\n",
    "from ProfileClass import PulsarProfile\n",
    "import seaborn as sns\n",
    "# import ProfileClass"
   ]
  },
  {
   "cell_type": "markdown",
   "metadata": {},
   "source": [
    "# Auxilary functions"
   ]
  },
  {
   "cell_type": "code",
   "execution_count": 338,
   "metadata": {},
   "outputs": [],
   "source": [
    "def is_float(value):\n",
    "  try:\n",
    "    float(value)\n",
    "    return True\n",
    "  except ValueError:\n",
    "    return False"
   ]
  },
  {
   "cell_type": "markdown",
   "metadata": {},
   "source": [
    "# ATNF Database"
   ]
  },
  {
   "cell_type": "code",
   "execution_count": 339,
   "metadata": {},
   "outputs": [],
   "source": [
    "lines = []\n",
    "with open('psrcat.db') as f:\n",
    "    lines = f.readlines()\n",
    "dict_list = []\n",
    "tmp_dict = {}\n",
    "for line in lines:\n",
    "    if len(line,) == 0:\n",
    "        print(\"ERROR: Zero length line\")\n",
    "        break\n",
    "    if line[0] == '@':\n",
    "        dict_list.append(tmp_dict)\n",
    "        tmp_dict = {}\n",
    "    else:\n",
    "        splitted_line = line.split()\n",
    "        if(is_float(splitted_line[1])):\n",
    "            tmp_dict[splitted_line[0]] = float(splitted_line[1])\n",
    "        else:\n",
    "            tmp_dict[splitted_line[0]] = splitted_line[1]\n",
    "data = pd.DataFrame(dict_list)\n",
    "data.loc[data['F0'].notna(), 'P0'] = 1 / data['F0']\n",
    "data.loc[data['P0'].notna(), 'F0'] = 1 / data['P0']\n",
    "data.loc[data['F0'].notna() & data['F1'].notna(), 'P1'] = -data['F1'] / data['F0']**2 \n",
    "data.loc[data['P0'].notna() & data['P1'].notna(), 'F1'] = -data['P1'] / data['P0']**2\n",
    "\n",
    "data['B12'] = (data['P0'] * data['P1'] * 1e15)**0.5\n",
    "data['AGE'] = data['P0'] / data['P1'] / 2\n",
    "data['Q'] = data['P0']**(5/7) / (data['P1']*1e15)**(2/7)\n",
    "data['L1400'] = data['S1400'] * data['DIST_DM']**2\n",
    "data['L'] = 7.4e27 * data['L1400']\n",
    "data['Edot'] = 3.95 * 1e31 * (data['P1'] / 1e-15)/ data['P0']**3\n",
    "data['Eff'] = data['L'] / data['Edot']\n",
    "data = data.set_index('PSRJ')"
   ]
  },
  {
   "cell_type": "markdown",
   "metadata": {},
   "source": [
    "# Pulsars mean profiles database (.fits)"
   ]
  },
  {
   "cell_type": "markdown",
   "metadata": {},
   "source": [
    "# FAST profiles"
   ]
  },
  {
   "cell_type": "code",
   "execution_count": 340,
   "metadata": {},
   "outputs": [],
   "source": [
    "# ----downloading-----\n",
    "# url = 'http://zmtt.bao.ac.cn/psr-fast/'\n",
    "# reqs = requests.get(url)\n",
    "# soup = BeautifulSoup(reqs.text, 'html.parser')\n",
    " \n",
    "# urls = []\n",
    "# for link in soup.find_all('a'):\n",
    "#     link_string = link.get('href')\n",
    "#     if link_string.split('/')[0] == 'whx23dat':\n",
    "#         print(link_string.split('/')[1])\n",
    "#         urllib.request.urlretrieve(url+link_string, 'FAST_profiles/' + link_string.split('/')[1])"
   ]
  },
  {
   "cell_type": "code",
   "execution_count": 341,
   "metadata": {},
   "outputs": [],
   "source": [
    "data.loc['J1827+00'] = pd.Series({'P0': 0.375})\n",
    "data.loc['J1934+09'] = pd.Series({'P0': 0.0046})\n",
    "data.loc['J1826-00'] = pd.Series({'P0': 0.0045})\n",
    "data.loc['J2041+46'] = pd.Series({'P0': 1.159})\n",
    "data.loc['J1854-01'] = pd.Series({'P0': 0.680})\n",
    "data.loc['J1849+0340g'] = pd.Series({'P0': 1.666})\n",
    "data.loc['J1919+04'] = pd.Series({'P0': 0.0039})\n",
    "data.loc['J1943+28'] = pd.Series({'P0': 0.737})\n",
    "data.loc['J1944+16'] = pd.Series({'P0': 0.0024})\n",
    "data.loc['J1852-0054g'] = pd.Series({'P0': 0.164})\n",
    "data.loc['J1907+0555'] = pd.Series({'P0': 0.168})\n",
    "data.loc['J1938+14A'] = pd.Series({'P0': 1.661})\n",
    "data.loc['J1917+24'] = pd.Series({'P0': 0.0043})\n",
    "data.loc['J1836+09'] = pd.Series({'P0': 0.541})\n",
    "data.loc['J2021+24'] = pd.Series({'P0': 0.879})\n",
    "data.loc['J1958+2213'] = pd.Series({'P0': 1.05})\n",
    "data.loc['J1843+04'] = pd.Series({'P0': 0.397})\n",
    "data.loc['J1858-02'] = pd.Series({'P0': 1.462})\n",
    "data.loc['J2025+2133'] = pd.Series({'P0': 0.623})\n",
    "data.loc['J1929+1905'] = pd.Series({'P0': 0.339})\n",
    "data.loc['J0625+17'] = pd.Series({'P0': 2.518})\n",
    "data.loc['J2108+41'] = pd.Series({'P0': 1.511})\n",
    "data.loc['J1921+1540'] = pd.Series({'P0': 0.143})\n",
    "data.loc['J2005+38'] = pd.Series({'P0': 2.461})\n",
    "\n",
    "\n"
   ]
  },
  {
   "cell_type": "code",
   "execution_count": 342,
   "metadata": {},
   "outputs": [
    {
     "name": "stdout",
     "output_type": "stream",
     "text": [
      "            Mode\n",
      "PSRJ            \n",
      "J0011+08      Od\n",
      "J0848+16     Od?\n",
      "J1312+1810A   Od\n",
      "J1538+2345    Od\n",
      "J1641+3627A   Od\n",
      "...          ...\n",
      "J2129+1210A    ?\n",
      "J2129+4119     ?\n",
      "J2138+4911     ?\n",
      "J2208+4056    Os\n",
      "J2340+08       ?\n",
      "\n",
      "[195 rows x 1 columns]\n"
     ]
    }
   ],
   "source": [
    "FASTfiles = glob.glob('FAST_Profiles/*')\n",
    "FASTnames = []\n",
    "for file in FASTfiles:\n",
    "    name = file.split('/')[1]\n",
    "    name = name.split('I')[0]\n",
    "    name = name.replace('p', '+')\n",
    "    name = name.replace('m', '-')\n",
    "    FASTnames.append(name)\n",
    "FASTProfiles = pd.DataFrame({'PSRJ': FASTnames, 'FASTfile_name': FASTfiles})\n",
    "FASTProfiles = FASTProfiles.set_index('PSRJ')\n",
    "FASTTable = pd.read_csv('KAT?.csv')\n",
    "FASTTable.set_index('PSRJ', inplace=True)\n",
    "FASTTable = FASTTable[~FASTTable.index.duplicated(keep='first')]\n",
    "print(FASTTable)\n",
    "FASTTable.rename(columns={'W10': 'W10_custom'}, inplace=True) #do not exist in Table!!!\n",
    "FASTTable.rename(columns={'Mode': 'Mode_FAST'}, inplace=True)\n",
    "FASTProfiles = FASTProfiles.merge(FASTTable, how='left', left_index=True, right_index=True)\n",
    "# data = data.merge(FASTProfiles, how='left', left_index=True, right_index=True)"
   ]
  },
  {
   "cell_type": "code",
   "execution_count": 343,
   "metadata": {},
   "outputs": [
    {
     "name": "stdout",
     "output_type": "stream",
     "text": [
      "63 58 121\n"
     ]
    }
   ],
   "source": [
    "Xcount = 0\n",
    "Ocount = 0\n",
    "for psr in FASTTable.index:\n",
    "    if (FASTProfiles.loc[psr]['Mode_FAST'] == 'Xs') or (FASTProfiles.loc[psr]['Mode_FAST'] == 'Xd'):\n",
    "        Xcount += 1\n",
    "    elif (FASTProfiles.loc[psr]['Mode_FAST'] == 'Os') or (FASTProfiles.loc[psr]['Mode_FAST'] == 'Od'):\n",
    "        Ocount += 1\n",
    "print(Xcount, Ocount, Xcount + Ocount)"
   ]
  },
  {
   "cell_type": "markdown",
   "metadata": {},
   "source": [
    "## MeerKAT profiles"
   ]
  },
  {
   "cell_type": "code",
   "execution_count": 344,
   "metadata": {},
   "outputs": [],
   "source": [
    "MeerKATfiles = glob.glob('MeerKAT_Profiles/ar_files/*')\n",
    "MeerKATnames = []\n",
    "for file in MeerKATfiles:\n",
    "    MeerKATnames.append(file.split('/')[2].split('_')[0])\n",
    "MeerKATProfiles = pd.DataFrame({'PSRJ': MeerKATnames, 'MeerKATfile_name': MeerKATfiles})\n",
    "MeerKATTable = pd.read_csv('MeerKat.csv')\n",
    "MeerKATTable.set_index('PSRJ', inplace=True)\n",
    "MeerKATTable.rename(columns={'W10': 'W10_custom'}, inplace=True)\n",
    "MeerKATTable.rename(columns={'Mode': 'Mode_MeerKAT'}, inplace=True)\n",
    "\n",
    "MeerKATProfiles = MeerKATProfiles.set_index('PSRJ')\n",
    "MeerKATProfiles = MeerKATProfiles.merge(MeerKATTable, how='left', left_index=True, right_index=True)\n",
    "data = data.merge(MeerKATProfiles, how='left', left_index=True, right_index=True)"
   ]
  },
  {
   "cell_type": "code",
   "execution_count": 345,
   "metadata": {},
   "outputs": [],
   "source": [
    "MeerKATTable1 = pd.read_csv('Census_Table1.csv')\n",
    "MeerKATTable1.set_index('PSRJ', inplace=True)\n",
    "data = pd.concat([MeerKATTable1['P'], data], axis=1)\n",
    "data.loc[data['P0'].isna(), 'P0'] = data['P']\n",
    "data = data.drop(columns=['P'])"
   ]
  },
  {
   "cell_type": "code",
   "execution_count": 346,
   "metadata": {},
   "outputs": [
    {
     "data": {
      "text/plain": [
       "0.3203"
      ]
     },
     "execution_count": 346,
     "metadata": {},
     "output_type": "execute_result"
    }
   ],
   "source": [
    "data.loc['J0514-4407', 'P0']"
   ]
  },
  {
   "cell_type": "markdown",
   "metadata": {},
   "source": [
    "## EPN profiles"
   ]
  },
  {
   "cell_type": "code",
   "execution_count": 347,
   "metadata": {},
   "outputs": [],
   "source": [
    "EPN_PSR_folders = glob.glob('EPN_ALL/fits/**/*')"
   ]
  },
  {
   "cell_type": "code",
   "execution_count": 348,
   "metadata": {},
   "outputs": [],
   "source": [
    "EPNnames = []\n",
    "for folder in EPN_PSR_folders:\n",
    "    name = folder.split('/')[-1]\n",
    "    if name[0] == 'B':\n",
    "        name = data.index[data['PSRB'] == name][0]\n",
    "    EPNnames.append(name)\n",
    "\n",
    "# EPN_Profiles = pd.DataFrame({'PSRJ': EPNnames, 'EPNfolder': EPN_PSR_folders})\n",
    "# EPN_Profiles = EPN_Profiles.set_index('PSRJ')"
   ]
  },
  {
   "cell_type": "code",
   "execution_count": 349,
   "metadata": {},
   "outputs": [],
   "source": [
    "EPN_Profiles_dict = dict.fromkeys(EPNnames, [])\n",
    "for i in range(len(EPN_PSR_folders)):\n",
    "    folder = EPN_PSR_folders[i]\n",
    "    files = glob.glob(folder+'/*')\n",
    "    EPN_Profiles_dict[EPNnames[i]] = EPN_Profiles_dict[EPNnames[i]] + files #!!! do not use += "
   ]
  },
  {
   "cell_type": "markdown",
   "metadata": {},
   "source": [
    "# Useful subsets"
   ]
  },
  {
   "cell_type": "markdown",
   "metadata": {},
   "source": [
    "## Fast and MeerKAT subsets"
   ]
  },
  {
   "cell_type": "code",
   "execution_count": 350,
   "metadata": {},
   "outputs": [],
   "source": [
    "MeerKATsubset = data[data.index.isin(MeerKATnames)].copy()\n",
    "FASTsubset = data[data.index.isin(FASTnames)].copy()"
   ]
  },
  {
   "cell_type": "markdown",
   "metadata": {},
   "source": [
    "## FAST orthogonal subset"
   ]
  },
  {
   "cell_type": "code",
   "execution_count": 351,
   "metadata": {},
   "outputs": [
    {
     "name": "stdout",
     "output_type": "stream",
     "text": [
      "['J0337+1715' 'J0653+4706' 'J0827+53' 'J1628+4406' 'J1630+3734'\n",
      " 'J1710+4923' 'J1842+0358' 'J1849+0409' 'J1851+0118' 'J1851+0418'\n",
      " 'J1852+0056g' 'J1853+1303' 'J1855+0700' 'J1857+0943' 'J1858-0024g'\n",
      " 'J1909+0749' 'J1913+0832' 'J1913+1050' 'J1918+1541' 'J1921+0137'\n",
      " 'J1926+0737' 'J1932+1059' 'J1934+2352' 'J1935+1726' 'J1935+2025'\n",
      " 'J1939+2134' 'J1955+2908' 'J1959+2048' 'J2004+3429' 'J2023+5037'\n",
      " 'J2032+4127' 'J2047+5029' 'J2053+4650' 'J2208+4056']\n"
     ]
    }
   ],
   "source": [
    "orthogonal_PSRs_FAST = []\n",
    "for psr in FASTnames:\n",
    "    profile = PulsarProfile(FASTProfiles.loc[psr]['FASTfile_name'], 'FAST')\n",
    "    if profile.profile_type == 'orthogonal':\n",
    "        # plt.plot(np.linspace(0, 1, pulsar_data[0].shape[0]), pulsar_data[0])\n",
    "        orthogonal_PSRs_FAST.append(psr)\n",
    "orthogonalFASTs = data[data.index.isin(orthogonal_PSRs_FAST)].copy()\n",
    "print(np.sort(np.array(orthogonal_PSRs_FAST)))\n"
   ]
  },
  {
   "cell_type": "code",
   "execution_count": 131,
   "metadata": {},
   "outputs": [
    {
     "data": {
      "text/html": [
       "<div>\n",
       "<style scoped>\n",
       "    .dataframe tbody tr th:only-of-type {\n",
       "        vertical-align: middle;\n",
       "    }\n",
       "\n",
       "    .dataframe tbody tr th {\n",
       "        vertical-align: top;\n",
       "    }\n",
       "\n",
       "    .dataframe thead th {\n",
       "        text-align: right;\n",
       "    }\n",
       "</style>\n",
       "<table border=\"1\" class=\"dataframe\">\n",
       "  <thead>\n",
       "    <tr style=\"text-align: right;\">\n",
       "      <th></th>\n",
       "      <th>RAJ</th>\n",
       "      <th>DECJ</th>\n",
       "      <th>POSEPOCH</th>\n",
       "      <th>PMRA</th>\n",
       "      <th>PMDEC</th>\n",
       "      <th>DM</th>\n",
       "      <th>F0</th>\n",
       "      <th>PEPOCH</th>\n",
       "      <th>F1</th>\n",
       "      <th>PX</th>\n",
       "      <th>...</th>\n",
       "      <th>Q</th>\n",
       "      <th>L1400</th>\n",
       "      <th>L</th>\n",
       "      <th>Edot</th>\n",
       "      <th>Eff</th>\n",
       "      <th>FASTfile_name</th>\n",
       "      <th>Mode_FAST</th>\n",
       "      <th>MeerKATfile_name</th>\n",
       "      <th>Mode_MeerKAT</th>\n",
       "      <th>W10_custom</th>\n",
       "    </tr>\n",
       "    <tr>\n",
       "      <th>PSRJ</th>\n",
       "      <th></th>\n",
       "      <th></th>\n",
       "      <th></th>\n",
       "      <th></th>\n",
       "      <th></th>\n",
       "      <th></th>\n",
       "      <th></th>\n",
       "      <th></th>\n",
       "      <th></th>\n",
       "      <th></th>\n",
       "      <th></th>\n",
       "      <th></th>\n",
       "      <th></th>\n",
       "      <th></th>\n",
       "      <th></th>\n",
       "      <th></th>\n",
       "      <th></th>\n",
       "      <th></th>\n",
       "      <th></th>\n",
       "      <th></th>\n",
       "      <th></th>\n",
       "    </tr>\n",
       "  </thead>\n",
       "  <tbody>\n",
       "    <tr>\n",
       "      <th>J1918+1541</th>\n",
       "      <td>19:18:07.70</td>\n",
       "      <td>+15:41:15.2</td>\n",
       "      <td>NaN</td>\n",
       "      <td>NaN</td>\n",
       "      <td>NaN</td>\n",
       "      <td>11.80</td>\n",
       "      <td>2.696268</td>\n",
       "      <td>49079.5</td>\n",
       "      <td>-1.848726e-14</td>\n",
       "      <td>NaN</td>\n",
       "      <td>...</td>\n",
       "      <td>0.377137</td>\n",
       "      <td>NaN</td>\n",
       "      <td>NaN</td>\n",
       "      <td>1.968941e+33</td>\n",
       "      <td>NaN</td>\n",
       "      <td>FAST_Profiles/J1918p1541ILVPA210101.dat</td>\n",
       "      <td>?</td>\n",
       "      <td>MeerKAT_Profiles/ar_files/J1918+1541_2020-07-1...</td>\n",
       "      <td>Xs</td>\n",
       "      <td>5.0</td>\n",
       "    </tr>\n",
       "    <tr>\n",
       "      <th>J1926+0737</th>\n",
       "      <td>19:26:33.740</td>\n",
       "      <td>07:37:07.2</td>\n",
       "      <td>NaN</td>\n",
       "      <td>NaN</td>\n",
       "      <td>NaN</td>\n",
       "      <td>159.00</td>\n",
       "      <td>3.144041</td>\n",
       "      <td>54833.6</td>\n",
       "      <td>-3.706872e-15</td>\n",
       "      <td>NaN</td>\n",
       "      <td>...</td>\n",
       "      <td>0.583924</td>\n",
       "      <td>8.368061</td>\n",
       "      <td>6.192365e+28</td>\n",
       "      <td>4.603549e+32</td>\n",
       "      <td>1.345128e-04</td>\n",
       "      <td>FAST_Profiles/J1926p0737ILVPA201226.dat</td>\n",
       "      <td>NaN</td>\n",
       "      <td>MeerKAT_Profiles/ar_files/J1926+0737_2020-05-1...</td>\n",
       "      <td>NaN</td>\n",
       "      <td>NaN</td>\n",
       "    </tr>\n",
       "    <tr>\n",
       "      <th>J1909+0749</th>\n",
       "      <td>19:09:08.2</td>\n",
       "      <td>+07:49:32</td>\n",
       "      <td>NaN</td>\n",
       "      <td>NaN</td>\n",
       "      <td>NaN</td>\n",
       "      <td>539.30</td>\n",
       "      <td>4.216540</td>\n",
       "      <td>54870.0</td>\n",
       "      <td>-2.701017e-12</td>\n",
       "      <td>NaN</td>\n",
       "      <td>...</td>\n",
       "      <td>0.085170</td>\n",
       "      <td>15.516662</td>\n",
       "      <td>1.148233e+29</td>\n",
       "      <td>4.498634e+35</td>\n",
       "      <td>2.552404e-07</td>\n",
       "      <td>FAST_Profiles/J1909p0749ILVPA200523.dat</td>\n",
       "      <td>?</td>\n",
       "      <td>MeerKAT_Profiles/ar_files/J1909+0749_2020-05-1...</td>\n",
       "      <td>NaN</td>\n",
       "      <td>NaN</td>\n",
       "    </tr>\n",
       "    <tr>\n",
       "      <th>J2047+5029</th>\n",
       "      <td>20:47:54.6400</td>\n",
       "      <td>+50:29:38.17</td>\n",
       "      <td>54250.0</td>\n",
       "      <td>NaN</td>\n",
       "      <td>NaN</td>\n",
       "      <td>107.60</td>\n",
       "      <td>2.242431</td>\n",
       "      <td>54250.0</td>\n",
       "      <td>-2.099760e-14</td>\n",
       "      <td>NaN</td>\n",
       "      <td>...</td>\n",
       "      <td>0.373366</td>\n",
       "      <td>5.995178</td>\n",
       "      <td>4.436432e+28</td>\n",
       "      <td>1.859884e+33</td>\n",
       "      <td>2.385327e-05</td>\n",
       "      <td>FAST_Profiles/J2047p5029ILVPA210327.dat</td>\n",
       "      <td>?</td>\n",
       "      <td>NaN</td>\n",
       "      <td>NaN</td>\n",
       "      <td>NaN</td>\n",
       "    </tr>\n",
       "    <tr>\n",
       "      <th>J1842+0358</th>\n",
       "      <td>18:42:17.022</td>\n",
       "      <td>+03:58:35.3</td>\n",
       "      <td>NaN</td>\n",
       "      <td>NaN</td>\n",
       "      <td>NaN</td>\n",
       "      <td>106.70</td>\n",
       "      <td>4.285845</td>\n",
       "      <td>53108.0</td>\n",
       "      <td>-1.490600e-14</td>\n",
       "      <td>NaN</td>\n",
       "      <td>...</td>\n",
       "      <td>0.375373</td>\n",
       "      <td>1.605796</td>\n",
       "      <td>1.188289e+28</td>\n",
       "      <td>2.523450e+33</td>\n",
       "      <td>4.708986e-06</td>\n",
       "      <td>FAST_Profiles/J1842p0358ILVPA220513.dat</td>\n",
       "      <td>NaN</td>\n",
       "      <td>MeerKAT_Profiles/ar_files/J1842+0358_2020-04-0...</td>\n",
       "      <td>Os</td>\n",
       "      <td>3.0</td>\n",
       "    </tr>\n",
       "    <tr>\n",
       "      <th>J2032+4127</th>\n",
       "      <td>20:32:13.119</td>\n",
       "      <td>+41:27:24.31</td>\n",
       "      <td>NaN</td>\n",
       "      <td>-2.99</td>\n",
       "      <td>-0.74</td>\n",
       "      <td>114.60</td>\n",
       "      <td>6.980975</td>\n",
       "      <td>55700.0</td>\n",
       "      <td>-5.510000e-13</td>\n",
       "      <td>0.69</td>\n",
       "      <td>...</td>\n",
       "      <td>0.124811</td>\n",
       "      <td>NaN</td>\n",
       "      <td>NaN</td>\n",
       "      <td>1.519374e+35</td>\n",
       "      <td>NaN</td>\n",
       "      <td>FAST_Profiles/J2032p4127ILVPA200402.dat</td>\n",
       "      <td>?</td>\n",
       "      <td>NaN</td>\n",
       "      <td>NaN</td>\n",
       "      <td>NaN</td>\n",
       "    </tr>\n",
       "    <tr>\n",
       "      <th>J2004+3429</th>\n",
       "      <td>20:04:46.97</td>\n",
       "      <td>+34:29:17.7</td>\n",
       "      <td>NaN</td>\n",
       "      <td>NaN</td>\n",
       "      <td>NaN</td>\n",
       "      <td>355.00</td>\n",
       "      <td>4.150193</td>\n",
       "      <td>56100.0</td>\n",
       "      <td>-3.562375e-12</td>\n",
       "      <td>NaN</td>\n",
       "      <td>...</td>\n",
       "      <td>0.078872</td>\n",
       "      <td>12.913695</td>\n",
       "      <td>9.556134e+28</td>\n",
       "      <td>5.839895e+35</td>\n",
       "      <td>1.636354e-07</td>\n",
       "      <td>FAST_Profiles/J2004p3429ILVPA200419.dat</td>\n",
       "      <td>NaN</td>\n",
       "      <td>NaN</td>\n",
       "      <td>NaN</td>\n",
       "      <td>NaN</td>\n",
       "    </tr>\n",
       "    <tr>\n",
       "      <th>J1855+0700</th>\n",
       "      <td>18:55:17.72</td>\n",
       "      <td>+07:00:37.1</td>\n",
       "      <td>NaN</td>\n",
       "      <td>NaN</td>\n",
       "      <td>NaN</td>\n",
       "      <td>247.20</td>\n",
       "      <td>3.865711</td>\n",
       "      <td>51991.0</td>\n",
       "      <td>-1.123100e-14</td>\n",
       "      <td>NaN</td>\n",
       "      <td>...</td>\n",
       "      <td>0.413039</td>\n",
       "      <td>11.227522</td>\n",
       "      <td>8.308366e+28</td>\n",
       "      <td>1.714924e+33</td>\n",
       "      <td>4.844743e-05</td>\n",
       "      <td>FAST_Profiles/J1855p0700ILVPA201222.dat</td>\n",
       "      <td>Xs?</td>\n",
       "      <td>MeerKAT_Profiles/ar_files/J1855+0700_2020-04-1...</td>\n",
       "      <td>NaN</td>\n",
       "      <td>NaN</td>\n",
       "    </tr>\n",
       "    <tr>\n",
       "      <th>J1934+2352</th>\n",
       "      <td>19:34:46.19</td>\n",
       "      <td>+23:52:55.9</td>\n",
       "      <td>NaN</td>\n",
       "      <td>NaN</td>\n",
       "      <td>NaN</td>\n",
       "      <td>355.50</td>\n",
       "      <td>5.604391</td>\n",
       "      <td>54650.0</td>\n",
       "      <td>-4.105151e-12</td>\n",
       "      <td>NaN</td>\n",
       "      <td>...</td>\n",
       "      <td>0.072558</td>\n",
       "      <td>9.234132</td>\n",
       "      <td>6.833258e+28</td>\n",
       "      <td>9.087713e+35</td>\n",
       "      <td>7.519227e-08</td>\n",
       "      <td>FAST_Profiles/J1934p2352ILVPA210609.dat</td>\n",
       "      <td>Os</td>\n",
       "      <td>MeerKAT_Profiles/ar_files/J1934+2352_2020-05-2...</td>\n",
       "      <td>NaN</td>\n",
       "      <td>NaN</td>\n",
       "    </tr>\n",
       "    <tr>\n",
       "      <th>J1913+1050</th>\n",
       "      <td>19:13:35.364</td>\n",
       "      <td>+10:50:26.6</td>\n",
       "      <td>NaN</td>\n",
       "      <td>NaN</td>\n",
       "      <td>NaN</td>\n",
       "      <td>231.10</td>\n",
       "      <td>5.261300</td>\n",
       "      <td>56700.0</td>\n",
       "      <td>-5.410582e-15</td>\n",
       "      <td>NaN</td>\n",
       "      <td>...</td>\n",
       "      <td>0.486955</td>\n",
       "      <td>1.779535</td>\n",
       "      <td>1.316856e+28</td>\n",
       "      <td>1.124434e+33</td>\n",
       "      <td>1.171127e-05</td>\n",
       "      <td>FAST_Profiles/J1913p1050ILVPA201228.dat</td>\n",
       "      <td>?</td>\n",
       "      <td>MeerKAT_Profiles/ar_files/J1913+1050_2020-05-0...</td>\n",
       "      <td>NaN</td>\n",
       "      <td>NaN</td>\n",
       "    </tr>\n",
       "    <tr>\n",
       "      <th>J1851+0118</th>\n",
       "      <td>18:51:52.18</td>\n",
       "      <td>+01:18:59</td>\n",
       "      <td>NaN</td>\n",
       "      <td>NaN</td>\n",
       "      <td>NaN</td>\n",
       "      <td>420.40</td>\n",
       "      <td>1.102564</td>\n",
       "      <td>51936.0</td>\n",
       "      <td>-1.661850e-13</td>\n",
       "      <td>NaN</td>\n",
       "      <td>...</td>\n",
       "      <td>0.228817</td>\n",
       "      <td>3.205824</td>\n",
       "      <td>2.372310e+28</td>\n",
       "      <td>7.237569e+33</td>\n",
       "      <td>3.277772e-06</td>\n",
       "      <td>FAST_Profiles/J1851p0118ILVPA211012.dat</td>\n",
       "      <td>NaN</td>\n",
       "      <td>NaN</td>\n",
       "      <td>NaN</td>\n",
       "      <td>NaN</td>\n",
       "    </tr>\n",
       "    <tr>\n",
       "      <th>J1913+0832</th>\n",
       "      <td>19:13:00.50</td>\n",
       "      <td>+08:32:05.1</td>\n",
       "      <td>NaN</td>\n",
       "      <td>NaN</td>\n",
       "      <td>NaN</td>\n",
       "      <td>356.40</td>\n",
       "      <td>7.439978</td>\n",
       "      <td>51685.0</td>\n",
       "      <td>-2.529400e-13</td>\n",
       "      <td>NaN</td>\n",
       "      <td>...</td>\n",
       "      <td>0.154495</td>\n",
       "      <td>60.752390</td>\n",
       "      <td>4.495677e+29</td>\n",
       "      <td>7.433379e+34</td>\n",
       "      <td>6.047959e-06</td>\n",
       "      <td>FAST_Profiles/J1913p0832ILVPA200514.dat</td>\n",
       "      <td>Xs</td>\n",
       "      <td>MeerKAT_Profiles/ar_files/J1913+0832_2019-10-1...</td>\n",
       "      <td>NaN</td>\n",
       "      <td>NaN</td>\n",
       "    </tr>\n",
       "    <tr>\n",
       "      <th>J2208+4056</th>\n",
       "      <td>NaN</td>\n",
       "      <td>NaN</td>\n",
       "      <td>NaN</td>\n",
       "      <td>NaN</td>\n",
       "      <td>NaN</td>\n",
       "      <td>11.80</td>\n",
       "      <td>1.569964</td>\n",
       "      <td>56375.0</td>\n",
       "      <td>-1.302200e-14</td>\n",
       "      <td>NaN</td>\n",
       "      <td>...</td>\n",
       "      <td>0.450336</td>\n",
       "      <td>NaN</td>\n",
       "      <td>NaN</td>\n",
       "      <td>8.075407e+32</td>\n",
       "      <td>NaN</td>\n",
       "      <td>FAST_Profiles/J2208p4056ILVPA201018.dat</td>\n",
       "      <td>Os</td>\n",
       "      <td>NaN</td>\n",
       "      <td>NaN</td>\n",
       "      <td>NaN</td>\n",
       "    </tr>\n",
       "    <tr>\n",
       "      <th>J1849+0409</th>\n",
       "      <td>18:49:03.471</td>\n",
       "      <td>+04:09:42.3</td>\n",
       "      <td>NaN</td>\n",
       "      <td>NaN</td>\n",
       "      <td>NaN</td>\n",
       "      <td>63.70</td>\n",
       "      <td>1.313725</td>\n",
       "      <td>53035.0</td>\n",
       "      <td>-3.725600e-14</td>\n",
       "      <td>NaN</td>\n",
       "      <td>...</td>\n",
       "      <td>0.342104</td>\n",
       "      <td>1.198579</td>\n",
       "      <td>8.869486e+27</td>\n",
       "      <td>1.933294e+33</td>\n",
       "      <td>4.587758e-06</td>\n",
       "      <td>FAST_Profiles/J1849p0409ILVPA210609.dat</td>\n",
       "      <td>NaN</td>\n",
       "      <td>MeerKAT_Profiles/ar_files/J1849+0409_2020-04-1...</td>\n",
       "      <td>Xs</td>\n",
       "      <td>4.0</td>\n",
       "    </tr>\n",
       "    <tr>\n",
       "      <th>J1935+2025</th>\n",
       "      <td>19:35:41.941</td>\n",
       "      <td>+20:25:40.1</td>\n",
       "      <td>NaN</td>\n",
       "      <td>NaN</td>\n",
       "      <td>NaN</td>\n",
       "      <td>181.40</td>\n",
       "      <td>12.481569</td>\n",
       "      <td>53460.0</td>\n",
       "      <td>-9.465447e-12</td>\n",
       "      <td>NaN</td>\n",
       "      <td>...</td>\n",
       "      <td>0.050974</td>\n",
       "      <td>10.524872</td>\n",
       "      <td>7.788405e+28</td>\n",
       "      <td>4.666673e+36</td>\n",
       "      <td>1.668942e-08</td>\n",
       "      <td>FAST_Profiles/J1935p2025ILVPA201026.dat</td>\n",
       "      <td>Os</td>\n",
       "      <td>MeerKAT_Profiles/ar_files/J1935+2025_2020-07-1...</td>\n",
       "      <td>Os</td>\n",
       "      <td>2.0</td>\n",
       "    </tr>\n",
       "    <tr>\n",
       "      <th>J1852+0056g</th>\n",
       "      <td>18:52:14</td>\n",
       "      <td>+00:56</td>\n",
       "      <td>NaN</td>\n",
       "      <td>NaN</td>\n",
       "      <td>NaN</td>\n",
       "      <td>881.90</td>\n",
       "      <td>0.849048</td>\n",
       "      <td>NaN</td>\n",
       "      <td>NaN</td>\n",
       "      <td>NaN</td>\n",
       "      <td>...</td>\n",
       "      <td>NaN</td>\n",
       "      <td>1.928011</td>\n",
       "      <td>1.426728e+28</td>\n",
       "      <td>NaN</td>\n",
       "      <td>NaN</td>\n",
       "      <td>FAST_Profiles/J1852p0056gILVPA200404s.dat</td>\n",
       "      <td>NaN</td>\n",
       "      <td>NaN</td>\n",
       "      <td>NaN</td>\n",
       "      <td>NaN</td>\n",
       "    </tr>\n",
       "    <tr>\n",
       "      <th>J1932+1059</th>\n",
       "      <td>19:32:14.0570</td>\n",
       "      <td>+10:59:33.38</td>\n",
       "      <td>57600.0</td>\n",
       "      <td>94.09</td>\n",
       "      <td>42.99</td>\n",
       "      <td>3.18</td>\n",
       "      <td>4.414646</td>\n",
       "      <td>57600.0</td>\n",
       "      <td>-2.254550e-14</td>\n",
       "      <td>2.77</td>\n",
       "      <td>...</td>\n",
       "      <td>0.332111</td>\n",
       "      <td>1.520789</td>\n",
       "      <td>1.125384e+28</td>\n",
       "      <td>3.931451e+33</td>\n",
       "      <td>2.862516e-06</td>\n",
       "      <td>FAST_Profiles/J1932p1059ILVPA210106.dat</td>\n",
       "      <td>NaN</td>\n",
       "      <td>MeerKAT_Profiles/ar_files/J1932+1059_2020-01-0...</td>\n",
       "      <td>Xs</td>\n",
       "      <td>6.0</td>\n",
       "    </tr>\n",
       "    <tr>\n",
       "      <th>J1858-0024g</th>\n",
       "      <td>18:58:46</td>\n",
       "      <td>-00:24</td>\n",
       "      <td>NaN</td>\n",
       "      <td>NaN</td>\n",
       "      <td>NaN</td>\n",
       "      <td>190.60</td>\n",
       "      <td>2.496256</td>\n",
       "      <td>NaN</td>\n",
       "      <td>NaN</td>\n",
       "      <td>NaN</td>\n",
       "      <td>...</td>\n",
       "      <td>NaN</td>\n",
       "      <td>0.580221</td>\n",
       "      <td>4.293632e+27</td>\n",
       "      <td>NaN</td>\n",
       "      <td>NaN</td>\n",
       "      <td>FAST_Profiles/J1858m0024gILVPA200829s.dat</td>\n",
       "      <td>NaN</td>\n",
       "      <td>NaN</td>\n",
       "      <td>NaN</td>\n",
       "      <td>NaN</td>\n",
       "    </tr>\n",
       "    <tr>\n",
       "      <th>J1628+4406</th>\n",
       "      <td>NaN</td>\n",
       "      <td>NaN</td>\n",
       "      <td>NaN</td>\n",
       "      <td>NaN</td>\n",
       "      <td>NaN</td>\n",
       "      <td>7.30</td>\n",
       "      <td>5.519419</td>\n",
       "      <td>56625.0</td>\n",
       "      <td>-5.903200e-16</td>\n",
       "      <td>NaN</td>\n",
       "      <td>...</td>\n",
       "      <td>0.910791</td>\n",
       "      <td>NaN</td>\n",
       "      <td>NaN</td>\n",
       "      <td>1.286998e+32</td>\n",
       "      <td>NaN</td>\n",
       "      <td>FAST_Profiles/J1628p4406ILVPA201026.dat</td>\n",
       "      <td>NaN</td>\n",
       "      <td>NaN</td>\n",
       "      <td>NaN</td>\n",
       "      <td>NaN</td>\n",
       "    </tr>\n",
       "    <tr>\n",
       "      <th>J1851+0418</th>\n",
       "      <td>NaN</td>\n",
       "      <td>NaN</td>\n",
       "      <td>49845.0</td>\n",
       "      <td>NaN</td>\n",
       "      <td>NaN</td>\n",
       "      <td>115.50</td>\n",
       "      <td>3.512500</td>\n",
       "      <td>49845.0</td>\n",
       "      <td>-1.343590e-14</td>\n",
       "      <td>NaN</td>\n",
       "      <td>...</td>\n",
       "      <td>0.397826</td>\n",
       "      <td>11.018961</td>\n",
       "      <td>8.154031e+28</td>\n",
       "      <td>1.864147e+33</td>\n",
       "      <td>4.374134e-05</td>\n",
       "      <td>FAST_Profiles/J1851p0418ILVPA200509.dat</td>\n",
       "      <td>NaN</td>\n",
       "      <td>MeerKAT_Profiles/ar_files/J1851+0418_2019-11-2...</td>\n",
       "      <td>NaN</td>\n",
       "      <td>NaN</td>\n",
       "    </tr>\n",
       "    <tr>\n",
       "      <th>J2023+5037</th>\n",
       "      <td>NaN</td>\n",
       "      <td>NaN</td>\n",
       "      <td>49910.0</td>\n",
       "      <td>NaN</td>\n",
       "      <td>NaN</td>\n",
       "      <td>33.00</td>\n",
       "      <td>2.683706</td>\n",
       "      <td>49910.0</td>\n",
       "      <td>-1.809250e-14</td>\n",
       "      <td>NaN</td>\n",
       "      <td>...</td>\n",
       "      <td>0.379723</td>\n",
       "      <td>9.326858</td>\n",
       "      <td>6.901875e+28</td>\n",
       "      <td>1.917921e+33</td>\n",
       "      <td>3.598624e-05</td>\n",
       "      <td>FAST_Profiles/J2023p5037ILVPA220508.dat</td>\n",
       "      <td>NaN</td>\n",
       "      <td>NaN</td>\n",
       "      <td>NaN</td>\n",
       "      <td>NaN</td>\n",
       "    </tr>\n",
       "  </tbody>\n",
       "</table>\n",
       "<p>21 rows × 169 columns</p>\n",
       "</div>"
      ],
      "text/plain": [
       "                       RAJ          DECJ  POSEPOCH   PMRA  PMDEC      DM  \\\n",
       "PSRJ                                                                       \n",
       "J1918+1541     19:18:07.70   +15:41:15.2       NaN    NaN    NaN   11.80   \n",
       "J1926+0737    19:26:33.740    07:37:07.2       NaN    NaN    NaN  159.00   \n",
       "J1909+0749      19:09:08.2     +07:49:32       NaN    NaN    NaN  539.30   \n",
       "J2047+5029   20:47:54.6400  +50:29:38.17   54250.0    NaN    NaN  107.60   \n",
       "J1842+0358    18:42:17.022   +03:58:35.3       NaN    NaN    NaN  106.70   \n",
       "J2032+4127    20:32:13.119  +41:27:24.31       NaN  -2.99  -0.74  114.60   \n",
       "J2004+3429     20:04:46.97   +34:29:17.7       NaN    NaN    NaN  355.00   \n",
       "J1855+0700     18:55:17.72   +07:00:37.1       NaN    NaN    NaN  247.20   \n",
       "J1934+2352     19:34:46.19   +23:52:55.9       NaN    NaN    NaN  355.50   \n",
       "J1913+1050    19:13:35.364   +10:50:26.6       NaN    NaN    NaN  231.10   \n",
       "J1851+0118     18:51:52.18     +01:18:59       NaN    NaN    NaN  420.40   \n",
       "J1913+0832     19:13:00.50   +08:32:05.1       NaN    NaN    NaN  356.40   \n",
       "J2208+4056             NaN           NaN       NaN    NaN    NaN   11.80   \n",
       "J1849+0409    18:49:03.471   +04:09:42.3       NaN    NaN    NaN   63.70   \n",
       "J1935+2025    19:35:41.941   +20:25:40.1       NaN    NaN    NaN  181.40   \n",
       "J1852+0056g       18:52:14        +00:56       NaN    NaN    NaN  881.90   \n",
       "J1932+1059   19:32:14.0570  +10:59:33.38   57600.0  94.09  42.99    3.18   \n",
       "J1858-0024g       18:58:46        -00:24       NaN    NaN    NaN  190.60   \n",
       "J1628+4406             NaN           NaN       NaN    NaN    NaN    7.30   \n",
       "J1851+0418             NaN           NaN   49845.0    NaN    NaN  115.50   \n",
       "J2023+5037             NaN           NaN   49910.0    NaN    NaN   33.00   \n",
       "\n",
       "                    F0   PEPOCH            F1    PX  ...         Q      L1400  \\\n",
       "PSRJ                                                 ...                        \n",
       "J1918+1541    2.696268  49079.5 -1.848726e-14   NaN  ...  0.377137        NaN   \n",
       "J1926+0737    3.144041  54833.6 -3.706872e-15   NaN  ...  0.583924   8.368061   \n",
       "J1909+0749    4.216540  54870.0 -2.701017e-12   NaN  ...  0.085170  15.516662   \n",
       "J2047+5029    2.242431  54250.0 -2.099760e-14   NaN  ...  0.373366   5.995178   \n",
       "J1842+0358    4.285845  53108.0 -1.490600e-14   NaN  ...  0.375373   1.605796   \n",
       "J2032+4127    6.980975  55700.0 -5.510000e-13  0.69  ...  0.124811        NaN   \n",
       "J2004+3429    4.150193  56100.0 -3.562375e-12   NaN  ...  0.078872  12.913695   \n",
       "J1855+0700    3.865711  51991.0 -1.123100e-14   NaN  ...  0.413039  11.227522   \n",
       "J1934+2352    5.604391  54650.0 -4.105151e-12   NaN  ...  0.072558   9.234132   \n",
       "J1913+1050    5.261300  56700.0 -5.410582e-15   NaN  ...  0.486955   1.779535   \n",
       "J1851+0118    1.102564  51936.0 -1.661850e-13   NaN  ...  0.228817   3.205824   \n",
       "J1913+0832    7.439978  51685.0 -2.529400e-13   NaN  ...  0.154495  60.752390   \n",
       "J2208+4056    1.569964  56375.0 -1.302200e-14   NaN  ...  0.450336        NaN   \n",
       "J1849+0409    1.313725  53035.0 -3.725600e-14   NaN  ...  0.342104   1.198579   \n",
       "J1935+2025   12.481569  53460.0 -9.465447e-12   NaN  ...  0.050974  10.524872   \n",
       "J1852+0056g   0.849048      NaN           NaN   NaN  ...       NaN   1.928011   \n",
       "J1932+1059    4.414646  57600.0 -2.254550e-14  2.77  ...  0.332111   1.520789   \n",
       "J1858-0024g   2.496256      NaN           NaN   NaN  ...       NaN   0.580221   \n",
       "J1628+4406    5.519419  56625.0 -5.903200e-16   NaN  ...  0.910791        NaN   \n",
       "J1851+0418    3.512500  49845.0 -1.343590e-14   NaN  ...  0.397826  11.018961   \n",
       "J2023+5037    2.683706  49910.0 -1.809250e-14   NaN  ...  0.379723   9.326858   \n",
       "\n",
       "                        L          Edot           Eff  \\\n",
       "PSRJ                                                    \n",
       "J1918+1541            NaN  1.968941e+33           NaN   \n",
       "J1926+0737   6.192365e+28  4.603549e+32  1.345128e-04   \n",
       "J1909+0749   1.148233e+29  4.498634e+35  2.552404e-07   \n",
       "J2047+5029   4.436432e+28  1.859884e+33  2.385327e-05   \n",
       "J1842+0358   1.188289e+28  2.523450e+33  4.708986e-06   \n",
       "J2032+4127            NaN  1.519374e+35           NaN   \n",
       "J2004+3429   9.556134e+28  5.839895e+35  1.636354e-07   \n",
       "J1855+0700   8.308366e+28  1.714924e+33  4.844743e-05   \n",
       "J1934+2352   6.833258e+28  9.087713e+35  7.519227e-08   \n",
       "J1913+1050   1.316856e+28  1.124434e+33  1.171127e-05   \n",
       "J1851+0118   2.372310e+28  7.237569e+33  3.277772e-06   \n",
       "J1913+0832   4.495677e+29  7.433379e+34  6.047959e-06   \n",
       "J2208+4056            NaN  8.075407e+32           NaN   \n",
       "J1849+0409   8.869486e+27  1.933294e+33  4.587758e-06   \n",
       "J1935+2025   7.788405e+28  4.666673e+36  1.668942e-08   \n",
       "J1852+0056g  1.426728e+28           NaN           NaN   \n",
       "J1932+1059   1.125384e+28  3.931451e+33  2.862516e-06   \n",
       "J1858-0024g  4.293632e+27           NaN           NaN   \n",
       "J1628+4406            NaN  1.286998e+32           NaN   \n",
       "J1851+0418   8.154031e+28  1.864147e+33  4.374134e-05   \n",
       "J2023+5037   6.901875e+28  1.917921e+33  3.598624e-05   \n",
       "\n",
       "                                         FASTfile_name Mode_FAST  \\\n",
       "PSRJ                                                               \n",
       "J1918+1541     FAST_Profiles/J1918p1541ILVPA210101.dat         ?   \n",
       "J1926+0737     FAST_Profiles/J1926p0737ILVPA201226.dat       NaN   \n",
       "J1909+0749     FAST_Profiles/J1909p0749ILVPA200523.dat         ?   \n",
       "J2047+5029     FAST_Profiles/J2047p5029ILVPA210327.dat         ?   \n",
       "J1842+0358     FAST_Profiles/J1842p0358ILVPA220513.dat       NaN   \n",
       "J2032+4127     FAST_Profiles/J2032p4127ILVPA200402.dat         ?   \n",
       "J2004+3429     FAST_Profiles/J2004p3429ILVPA200419.dat       NaN   \n",
       "J1855+0700     FAST_Profiles/J1855p0700ILVPA201222.dat       Xs?   \n",
       "J1934+2352     FAST_Profiles/J1934p2352ILVPA210609.dat        Os   \n",
       "J1913+1050     FAST_Profiles/J1913p1050ILVPA201228.dat         ?   \n",
       "J1851+0118     FAST_Profiles/J1851p0118ILVPA211012.dat       NaN   \n",
       "J1913+0832     FAST_Profiles/J1913p0832ILVPA200514.dat        Xs   \n",
       "J2208+4056     FAST_Profiles/J2208p4056ILVPA201018.dat        Os   \n",
       "J1849+0409     FAST_Profiles/J1849p0409ILVPA210609.dat       NaN   \n",
       "J1935+2025     FAST_Profiles/J1935p2025ILVPA201026.dat        Os   \n",
       "J1852+0056g  FAST_Profiles/J1852p0056gILVPA200404s.dat       NaN   \n",
       "J1932+1059     FAST_Profiles/J1932p1059ILVPA210106.dat       NaN   \n",
       "J1858-0024g  FAST_Profiles/J1858m0024gILVPA200829s.dat       NaN   \n",
       "J1628+4406     FAST_Profiles/J1628p4406ILVPA201026.dat       NaN   \n",
       "J1851+0418     FAST_Profiles/J1851p0418ILVPA200509.dat       NaN   \n",
       "J2023+5037     FAST_Profiles/J2023p5037ILVPA220508.dat       NaN   \n",
       "\n",
       "                                              MeerKATfile_name  Mode_MeerKAT  \\\n",
       "PSRJ                                                                           \n",
       "J1918+1541   MeerKAT_Profiles/ar_files/J1918+1541_2020-07-1...            Xs   \n",
       "J1926+0737   MeerKAT_Profiles/ar_files/J1926+0737_2020-05-1...           NaN   \n",
       "J1909+0749   MeerKAT_Profiles/ar_files/J1909+0749_2020-05-1...           NaN   \n",
       "J2047+5029                                                 NaN           NaN   \n",
       "J1842+0358   MeerKAT_Profiles/ar_files/J1842+0358_2020-04-0...            Os   \n",
       "J2032+4127                                                 NaN           NaN   \n",
       "J2004+3429                                                 NaN           NaN   \n",
       "J1855+0700   MeerKAT_Profiles/ar_files/J1855+0700_2020-04-1...           NaN   \n",
       "J1934+2352   MeerKAT_Profiles/ar_files/J1934+2352_2020-05-2...           NaN   \n",
       "J1913+1050   MeerKAT_Profiles/ar_files/J1913+1050_2020-05-0...           NaN   \n",
       "J1851+0118                                                 NaN           NaN   \n",
       "J1913+0832   MeerKAT_Profiles/ar_files/J1913+0832_2019-10-1...           NaN   \n",
       "J2208+4056                                                 NaN           NaN   \n",
       "J1849+0409   MeerKAT_Profiles/ar_files/J1849+0409_2020-04-1...            Xs   \n",
       "J1935+2025   MeerKAT_Profiles/ar_files/J1935+2025_2020-07-1...            Os   \n",
       "J1852+0056g                                                NaN           NaN   \n",
       "J1932+1059   MeerKAT_Profiles/ar_files/J1932+1059_2020-01-0...            Xs   \n",
       "J1858-0024g                                                NaN           NaN   \n",
       "J1628+4406                                                 NaN           NaN   \n",
       "J1851+0418   MeerKAT_Profiles/ar_files/J1851+0418_2019-11-2...           NaN   \n",
       "J2023+5037                                                 NaN           NaN   \n",
       "\n",
       "             W10_custom  \n",
       "PSRJ                     \n",
       "J1918+1541          5.0  \n",
       "J1926+0737          NaN  \n",
       "J1909+0749          NaN  \n",
       "J2047+5029          NaN  \n",
       "J1842+0358          3.0  \n",
       "J2032+4127          NaN  \n",
       "J2004+3429          NaN  \n",
       "J1855+0700          NaN  \n",
       "J1934+2352          NaN  \n",
       "J1913+1050          NaN  \n",
       "J1851+0118          NaN  \n",
       "J1913+0832          NaN  \n",
       "J2208+4056          NaN  \n",
       "J1849+0409          4.0  \n",
       "J1935+2025          2.0  \n",
       "J1852+0056g         NaN  \n",
       "J1932+1059          6.0  \n",
       "J1858-0024g         NaN  \n",
       "J1628+4406          NaN  \n",
       "J1851+0418          NaN  \n",
       "J2023+5037          NaN  \n",
       "\n",
       "[21 rows x 169 columns]"
      ]
     },
     "execution_count": 131,
     "metadata": {},
     "output_type": "execute_result"
    }
   ],
   "source": [
    "tmp = data.loc[orthogonal_PSRs_FAST]\n",
    "tmp[tmp['P0'] > 0.03]"
   ]
  },
  {
   "cell_type": "code",
   "execution_count": null,
   "metadata": {},
   "outputs": [],
   "source": [
    "import AuxFunctions as aux"
   ]
  },
  {
   "cell_type": "code",
   "execution_count": null,
   "metadata": {},
   "outputs": [],
   "source": [
    "profile = PulsarProfile(FASTProfiles.loc['J1855+0700']['FASTfile_name'], 'FAST')\n",
    "profile.plot_profile(plot_fit=True)\n",
    "print(profile.Ncounts)\n",
    "print(profile.find_peaks()/profile.Ncounts)\n",
    "print(aux.noise_estimation(profile.I))\n",
    "print(profile.get_Wa(10))\n",
    "print(profile.get_mode())\n",
    "print(profile.get_level_bounds(10)[0]/profile.Ncounts, profile.get_level_bounds(10)[1]/profile.Ncounts)"
   ]
  },
  {
   "cell_type": "markdown",
   "metadata": {},
   "source": [
    "## MeerKAT orthogonal subset"
   ]
  },
  {
   "cell_type": "code",
   "execution_count": 408,
   "metadata": {},
   "outputs": [
    {
     "name": "stdout",
     "output_type": "stream",
     "text": [
      "['J0514-4407' 'J0627+0706' 'J0835-3707' 'J0842-4851' 'J0905-5127'\n",
      " 'J0908-4913' 'J1057-5226' 'J1126-6054' 'J1413-6307' 'J1549-4848'\n",
      " 'J1637-4553' 'J1705-1906' 'J1722-3712' 'J1739-2903' 'J1755-0903'\n",
      " 'J1816-0755' 'J1825-0935' 'J1842+0358' 'J1843-0702' 'J1849+0409'\n",
      " 'J1909+0749' 'J1913+0832' 'J1926+0737' 'J1932+1059' 'J1935+2025']\n"
     ]
    }
   ],
   "source": [
    "orthogonal_PSRs_MeerKAT = []\n",
    "for psr in MeerKATnames:\n",
    "    if not psr in data.index:\n",
    "        continue\n",
    "    profile = PulsarProfile(MeerKATProfiles.loc[psr]['MeerKATfile_name'], 'MeerKAT')\n",
    "    if profile.profile_type == 'orthogonal':\n",
    "        # plt.plot(np.linspace(0, 1, pulsar_data[0].shape[0]), pulsar_data[0])\n",
    "        orthogonal_PSRs_MeerKAT.append(psr)\n",
    "orthogonalMeerKATs = data[data.index.isin(orthogonal_PSRs_MeerKAT)].copy()\n",
    "print(np.sort(np.array(orthogonal_PSRs_MeerKAT)))\n",
    "orthogonal_PSRs_MeerKAT += ['J1918+1541', 'J1851+0418', 'J1611-5209', 'J1828-1101', 'J0514-4407']\n"
   ]
  },
  {
   "cell_type": "code",
   "execution_count": 391,
   "metadata": {},
   "outputs": [],
   "source": [
    "orthogonal_PSRs_MeerKAT = list(set(orthogonal_PSRs_MeerKAT))"
   ]
  },
  {
   "cell_type": "code",
   "execution_count": null,
   "metadata": {},
   "outputs": [],
   "source": [
    "np.array(orthogonal_PSRs_MeerKAT)"
   ]
  },
  {
   "cell_type": "code",
   "execution_count": null,
   "metadata": {},
   "outputs": [],
   "source": [
    "profile = PulsarProfile(MeerKATProfiles.loc['J1828-1101']['MeerKATfile_name'], 'MeerKAT')\n",
    "profile.plot_profile(plot_fit=True, plot_pol=False)\n",
    "print(profile.Ncounts)\n",
    "print(aux.noise_estimation(profile.I))\n",
    "print(profile.get_Wa(10))\n",
    "print(np.array(profile.get_level_bounds(10))/profile.Ncounts)\n",
    "print(profile.find_peaks()/profile.Ncounts)\n",
    "print(profile.find_profile_type())"
   ]
  },
  {
   "cell_type": "markdown",
   "metadata": {},
   "source": [
    "## Fast and MeerKAT manual mode subsets"
   ]
  },
  {
   "cell_type": "code",
   "execution_count": null,
   "metadata": {},
   "outputs": [],
   "source": [
    "MeerKATXs = MeerKATsubset[(MeerKATsubset['Mode_MeerKAT'] == 'Xd') | (MeerKATsubset['Mode_MeerKAT'] == 'Xs')]\n",
    "MeerKATOs = MeerKATsubset[(MeerKATsubset['Mode_MeerKAT'] == 'Od') | (MeerKATsubset['Mode_MeerKAT'] == 'Os')]\n",
    "FASTXs = FASTsubset[(FASTsubset['Mode_FAST'] == 'Xd') | (FASTsubset['Mode_FAST'] == 'Xs')]\n",
    "FASTOs = FASTsubset[(FASTsubset['Mode_FAST'] == 'Od') | (FASTsubset['Mode_FAST'] == 'Os')]"
   ]
  },
  {
   "cell_type": "markdown",
   "metadata": {},
   "source": [
    "# Profiles processing"
   ]
  },
  {
   "cell_type": "markdown",
   "metadata": {},
   "source": [
    "# Space for working"
   ]
  },
  {
   "cell_type": "markdown",
   "metadata": {},
   "source": [
    "## Width statistics: FAST"
   ]
  },
  {
   "cell_type": "code",
   "execution_count": 281,
   "metadata": {},
   "outputs": [],
   "source": [
    "XW50 = []\n",
    "OW50 = []\n",
    "XW10 = []\n",
    "OW10 = []\n",
    "Ntrue = 0\n",
    "Ncomm = 0\n",
    "Nall = 0\n",
    "for psr in FASTnames:\n",
    "    pulsar_profile = PulsarProfile(FASTProfiles.loc[psr]['FASTfile_name'], 'FAST')\n",
    "    # if ((FASTProfiles.loc[psr]['Mode_FAST'] == 'Xs') or (FASTProfiles.loc[psr]['Mode_FAST'] == 'Xd')) and pulsar_profile.get_mode() == '?':\n",
    "    #     print(psr)\n",
    "    # if not (pulsar_profile.find_profile_type() == 'single' or pulsar_profile.find_profile_type() == 'double'):\n",
    "    #     continue\n",
    "    if psr in data.index:\n",
    "        if data.loc[psr]['P0'] < 0.03:\n",
    "            continue\n",
    "        if (FASTProfiles.loc[psr]['Mode_FAST'] == 'Xs') or (FASTProfiles.loc[psr]['Mode_FAST'] == 'Xd'):\n",
    "            if pulsar_profile.get_Wa(50) * data.loc[psr]['P0']**0.5 < 60:\n",
    "                XW50.append(pulsar_profile.get_Wa(50) * data.loc[psr]['P0']**0.5)\n",
    "            if pulsar_profile.get_Wa(10) * data.loc[psr]['P0']**0.5 < 60:\n",
    "                XW10.append(pulsar_profile.get_Wa(10) * data.loc[psr]['P0']**0.5)\n",
    "        elif (FASTProfiles.loc[psr]['Mode_FAST'] == 'Os') or (FASTProfiles.loc[psr]['Mode_FAST'] == 'Od'):\n",
    "            if pulsar_profile.get_Wa(15) * data.loc[psr]['P0']**0.5 < 60:\n",
    "                OW50.append(pulsar_profile.get_Wa(50) * data.loc[psr]['P0']**0.5)\n",
    "            if pulsar_profile.get_Wa(10) * data.loc[psr]['P0']**0.5 < 60:\n",
    "                OW10.append(pulsar_profile.get_Wa(10) * data.loc[psr]['P0']**0.5)\n",
    "        mode = pulsar_profile.get_mode()\n",
    "        # if pulsar_profile.get_Wa(10) * data.loc[psr]['P0']**0.5 > 60:\n",
    "        #     print(psr)\n",
    "        if mode != '?':\n",
    "            Nall +=1\n",
    "            if (FASTProfiles.loc[psr]['Mode_FAST'] == 'Xs') or (FASTProfiles.loc[psr]['Mode_FAST'] == 'Xd'):\n",
    "                Ncomm += 1\n",
    "                if mode == 'X':\n",
    "                    Ntrue += 1\n",
    "            if (FASTProfiles.loc[psr]['Mode_FAST'] == 'Os') or (FASTProfiles.loc[psr]['Mode_FAST'] == 'Od'):\n",
    "                Ncomm += 1\n",
    "                if mode == 'O':\n",
    "                    Ntrue += 1\n",
    "\n",
    "        # if mode == 'X':\n",
    "        #     if pulsar_profile.get_Wa(50) * data.loc[psr]['P0']**0.5 < 50:\n",
    "        #         XW50.append(pulsar_profile.get_Wa(50) * data.loc[psr]['P0']**0.5)\n",
    "        #     if pulsar_profile.get_Wa(10) * data.loc[psr]['P0']**0.5 < 50:\n",
    "        #         XW10.append(pulsar_profile.get_Wa(10) * data.loc[psr]['P0']**0.5)\n",
    "        # elif mode == 'O':\n",
    "        #     if pulsar_profile.get_Wa(50) * data.loc[psr]['P0']**0.5 < 50:\n",
    "        #         OW50.append(pulsar_profile.get_Wa(50) * data.loc[psr]['P0']**0.5)\n",
    "        #     if pulsar_profile.get_Wa(10) * data.loc[psr]['P0']**0.5 < 50:\n",
    "        #         OW10.append(pulsar_profile.get_Wa(10) * data.loc[psr]['P0']**0.5)\n",
    "        \n",
    "            "
   ]
  },
  {
   "cell_type": "code",
   "execution_count": 177,
   "metadata": {},
   "outputs": [
    {
     "name": "stdout",
     "output_type": "stream",
     "text": [
      "90.984375\n"
     ]
    },
    {
     "data": {
      "text/plain": [
       "'O'"
      ]
     },
     "execution_count": 177,
     "metadata": {},
     "output_type": "execute_result"
    },
    {
     "data": {
      "image/png": "[encoded data removed]",
      "text/plain": [
       "<Figure size 640x480 with 2 Axes>"
      ]
     },
     "metadata": {},
     "output_type": "display_data"
    }
   ],
   "source": [
    "profile = PulsarProfile(FASTProfiles.loc['J2051+4434g']['FASTfile_name'], 'FAST')\n",
    "print(profile.get_Wa(10) )\n",
    "profile.plot_profile(plot_fit=True)\n",
    "profile.get_mode()"
   ]
  },
  {
   "cell_type": "code",
   "execution_count": 282,
   "metadata": {},
   "outputs": [
    {
     "name": "stdout",
     "output_type": "stream",
     "text": [
      "172 72 75 0.96\n",
      "58 56\n"
     ]
    }
   ],
   "source": [
    "print(Nall, Ntrue, Ncomm, Ntrue / Ncomm)\n",
    "print(len(XW10), len(OW10))"
   ]
  },
  {
   "cell_type": "code",
   "execution_count": 287,
   "metadata": {},
   "outputs": [
    {
     "name": "stdout",
     "output_type": "stream",
     "text": [
      "58 56\n",
      "12.46373625487331 10.295246434994535 14.787082250118967\n",
      "15.351219537350595 13.207232161659896 17.890560182216618\n"
     ]
    }
   ],
   "source": [
    "XW10 = np.sort(XW10)\n",
    "OW10 = np.sort(OW10)\n",
    "print(len(XW10), len(OW10))\n",
    "NX = len(XW10)\n",
    "NO = len(OW10)\n",
    "print(np.median(XW10), XW10[int(0.5 * NX - 1.96 * 0.5 * np.sqrt(NX))], XW10[int(0.5 * NX + 1.96 * 0.5 * np.sqrt(NX))])\n",
    "print(np.median(OW10), OW10[int(0.5 * NO - 1.96 * 0.5 * np.sqrt(NO))], OW10[int(0.5 * NO + 1.96 * 0.5 * np.sqrt(NO))])\n",
    "# print(scipy.stats.bootstrap((XW10,), np.median, method='percentile'))\n",
    "# print(scipy.stats.bootstrap((XW10,), np.median, method='basic'))\n",
    "# print(scipy.stats.bootstrap((OW10,), np.median, method='percentile'))\n",
    "# print(scipy.stats.bootstrap((OW10,), np.median, method='basic'))"
   ]
  },
  {
   "cell_type": "code",
   "execution_count": 285,
   "metadata": {},
   "outputs": [
    {
     "name": "stdout",
     "output_type": "stream",
     "text": [
      "KstestResult(statistic=0.2512315270935961, pvalue=0.042950942250736604, statistic_location=11.622524208293001, statistic_sign=1)\n",
      "TtestResult(statistic=-1.553009000296322, pvalue=0.061621122828238444, df=112.0)\n",
      "TtestResult(statistic=-1.5541191398753091, pvalue=0.061488675632429865, df=111.9972150539472)\n",
      "Anderson_ksampResult(statistic=2.4440143470964206, critical_values=array([0.325, 1.226, 1.961, 2.718, 3.752, 4.592, 6.546]), pvalue=0.03228380723492673)\n"
     ]
    },
    {
     "data": {
      "image/png": "[encoded data removed]",
      "text/plain": [
       "<Figure size 640x480 with 1 Axes>"
      ]
     },
     "metadata": {},
     "output_type": "display_data"
    }
   ],
   "source": [
    "sns.histplot({'O': OW10, 'X':XW10}, kde=True, alpha=0.7, stat='density', palette='tab10', multiple=\"dodge\", common_norm=False)\n",
    "sns.set_style(\"whitegrid\")\n",
    "plt.grid(True)\n",
    "# ax2 = plt.twinx()\n",
    "# ax2.grid(False)\n",
    "# sns.ecdfplot({'O': OW10, 'X':XW10}, alpha=0.7, palette='tab10', ax=ax2)\n",
    "plt.ylabel('Density', fontsize=14)\n",
    "plt.xlabel(r'$W_{10}^\\degree \\cdot \\sqrt{P}$', fontsize=14)\n",
    "print(scipy.stats.kstest(XW10, OW10))\n",
    "print(scipy.stats.ttest_ind(XW10, OW10, alternative='less'))\n",
    "print(scipy.stats.ttest_ind(XW10, OW10, equal_var=False, alternative='less'))\n",
    "print(scipy.stats.anderson_ksamp([XW10, OW10]))\n",
    "\n",
    "# plt.savefig('FAST_mode_comparison_manual.png', dpi=400, bbox_inches='tight')"
   ]
  },
  {
   "cell_type": "code",
   "execution_count": 199,
   "metadata": {},
   "outputs": [
    {
     "data": {
      "text/plain": [
       "Text(0.5, 0, '$W_{10}^\\\\degree \\\\cdot \\\\sqrt{P}$')"
      ]
     },
     "execution_count": 199,
     "metadata": {},
     "output_type": "execute_result"
    },
    {
     "data": {
      "image/png": "[encoded data removed]",
      "text/plain": [
       "<Figure size 640x480 with 1 Axes>"
      ]
     },
     "metadata": {},
     "output_type": "display_data"
    }
   ],
   "source": [
    "sns.ecdfplot({'O': OW10, 'X':XW10}, palette='tab10')\n",
    "plt.ylabel('CDF', fontsize=14)\n",
    "plt.xlabel(r'$W_{10}^\\degree \\cdot \\sqrt{P}$', fontsize=14)\n",
    "# plt.savefig('FAST_CDF_manual.png', dpi=400, bbox_inches='tight')"
   ]
  },
  {
   "cell_type": "code",
   "execution_count": 292,
   "metadata": {},
   "outputs": [
    {
     "data": {
      "image/png": "[encoded data removed]",
      "text/plain": [
       "<Figure size 640x480 with 1 Axes>"
      ]
     },
     "metadata": {},
     "output_type": "display_data"
    }
   ],
   "source": [
    "tmp = plt.hist(OW10, cumulative=True, bins=20)\n",
    "vals = tmp[0]\n",
    "widths = tmp[1][0:-1]"
   ]
  },
  {
   "cell_type": "code",
   "execution_count": 295,
   "metadata": {},
   "outputs": [
    {
     "data": {
      "image/png": "[encoded data removed]",
      "text/plain": [
       "<Figure size 640x480 with 1 Axes>"
      ]
     },
     "metadata": {},
     "output_type": "display_data"
    }
   ],
   "source": [
    "plt.plot(widths, vals)\n",
    "plt.plot(widths, 0.01 * widths**2)\n",
    "plt.xscale('log')\n",
    "plt.yscale('log')"
   ]
  },
  {
   "cell_type": "markdown",
   "metadata": {},
   "source": [
    "## Width statisticks MeerKAT"
   ]
  },
  {
   "cell_type": "code",
   "execution_count": 230,
   "metadata": {},
   "outputs": [],
   "source": [
    "XW50 = []\n",
    "OW50 = []\n",
    "XW10 = []\n",
    "OW10 = []\n",
    "Ntrue = 0\n",
    "Ncomm = 0\n",
    "Nall = 0\n",
    "for psr in MeerKATnames:\n",
    "    pulsar_profile = PulsarProfile(MeerKATProfiles.loc[psr]['MeerKATfile_name'], 'MeerKAT')\n",
    "    # if ((MeerKATProfiles.loc[psr]['Mode_MeerKAT'] == 'Xs') or (MeerKATProfiles.loc[psr]['Mode_MeerKAT'] == 'Xd')) and pulsar_profile.get_mode() == '?':\n",
    "    #     print(psr)\n",
    "    # if not (pulsar_profile.find_profile_type() == 'single' or pulsar_profile.find_profile_type() == 'double'):\n",
    "    #     continue\n",
    "    if psr in data.index:\n",
    "        if data.loc[psr]['P0'] < 0.03:\n",
    "            continue\n",
    "        if (MeerKATProfiles.loc[psr]['Mode_MeerKAT'] == 'Xs') or (MeerKATProfiles.loc[psr]['Mode_MeerKAT'] == 'Xd'):\n",
    "            if pulsar_profile.get_Wa(50) * data.loc[psr]['P0']**0.5 < 60:\n",
    "                XW50.append(pulsar_profile.get_Wa(50) * data.loc[psr]['P0']**0.5)\n",
    "            if pulsar_profile.get_Wa(10) * data.loc[psr]['P0']**0.5 < 60:\n",
    "                XW10.append(pulsar_profile.get_Wa(10) * data.loc[psr]['P0']**0.5)\n",
    "        elif (MeerKATProfiles.loc[psr]['Mode_MeerKAT'] == 'Os') or (MeerKATProfiles.loc[psr]['Mode_MeerKAT'] == 'Od'):\n",
    "            if pulsar_profile.get_Wa(50) * data.loc[psr]['P0']**0.5 < 60:\n",
    "                OW50.append(pulsar_profile.get_Wa(50) * data.loc[psr]['P0']**0.5)\n",
    "            if pulsar_profile.get_Wa(10) * data.loc[psr]['P0']**0.5 < 60:\n",
    "                OW10.append(pulsar_profile.get_Wa(10) * data.loc[psr]['P0']**0.5)\n",
    "        # mode = pulsar_profile.get_mode()\n",
    "        # if mode != '?':\n",
    "        #     Nall += 1\n",
    "        #     if (MeerKATProfiles.loc[psr]['Mode_MeerKAT'] == 'Xs') or (MeerKATProfiles.loc[psr]['Mode_MeerKAT'] == 'Xd'):\n",
    "        #         Ncomm += 1\n",
    "        #         if mode == 'X':\n",
    "        #             Ntrue += 1\n",
    "        #     if (MeerKATProfiles.loc[psr]['Mode_MeerKAT'] == 'Os') or (MeerKATProfiles.loc[psr]['Mode_MeerKAT'] == 'Od'):\n",
    "        #         Ncomm += 1\n",
    "        #         if mode == 'O':\n",
    "        #             Ntrue += 1\n",
    "            # print(psr, mode, MeerKATProfiles.loc[psr]['Mode_MeerKAT'])\n",
    "        # if mode == 'X':\n",
    "        #     if pulsar_profile.get_Wa(50) * data.loc[psr]['P0']**0.5 < 60:\n",
    "        #         XW50.append(pulsar_profile.get_Wa(50) * data.loc[psr]['P0']**0.5)\n",
    "        #     if pulsar_profile.get_Wa(10) * data.loc[psr]['P0']**0.5 < 60:\n",
    "        #         XW10.append(pulsar_profile.get_Wa(10) * data.loc[psr]['P0']**0.5)\n",
    "        # elif mode == 'O':\n",
    "        #     if pulsar_profile.get_Wa(50) * data.loc[psr]['P0']**0.5 < 60:\n",
    "        #         OW50.append(pulsar_profile.get_Wa(50) * data.loc[psr]['P0']**0.5)\n",
    "        #     if pulsar_profile.get_Wa(10) * data.loc[psr]['P0']**0.5 < 60:\n",
    "        #         OW10.append(pulsar_profile.get_Wa(10) * data.loc[psr]['P0']**0.5)\n",
    "            "
   ]
  },
  {
   "cell_type": "code",
   "execution_count": 189,
   "metadata": {},
   "outputs": [
    {
     "data": {
      "text/plain": [
       "'?'"
      ]
     },
     "execution_count": 189,
     "metadata": {},
     "output_type": "execute_result"
    },
    {
     "data": {
      "image/png": "[encoded data removed]",
      "text/plain": [
       "<Figure size 640x480 with 2 Axes>"
      ]
     },
     "metadata": {},
     "output_type": "display_data"
    }
   ],
   "source": [
    "profile = PulsarProfile(MeerKATProfiles.loc['J1653-4249']['MeerKATfile_name'], 'MeerKAT')\n",
    "profile.plot_profile(plot_fit=True)\n",
    "profile.get_mode()"
   ]
  },
  {
   "cell_type": "code",
   "execution_count": 280,
   "metadata": {},
   "outputs": [
    {
     "name": "stdout",
     "output_type": "stream",
     "text": [
      "214 207\n",
      "10.600441268876846 9.717550789673526 11.66451059817618\n",
      "15.287278312659243 13.497746574691332 16.14094303799385\n",
      "BootstrapResult(confidence_interval=ConfidenceInterval(low=13.497746574691332, high=16.14094303799385), bootstrap_distribution=array([15.53789047, 15.5626048 , 15.4623233 , ..., 15.15600661,\n",
      "       13.37082838, 15.32403437]), standard_error=0.661586643920545)\n",
      "BootstrapResult(confidence_interval=ConfidenceInterval(low=14.433613587324636, high=17.076810050627152), bootstrap_distribution=array([14.3091005 , 15.14687989, 15.80699503, ..., 15.32403437,\n",
      "       15.419288  , 15.28908064]), standard_error=0.6643719542904739)\n"
     ]
    }
   ],
   "source": [
    "# print(Nall, Ntrue, Ncomm, Ntrue / Ncomm)\n",
    "XW10 = np.sort(XW10)\n",
    "OW10 = np.sort(OW10)\n",
    "print(len(XW10), len(OW10))\n",
    "NX = len(XW10)\n",
    "NO = len(OW10)\n",
    "print(np.median(XW10), XW10[int(0.5 * NX - 1.96 * 0.5 * np.sqrt(NX))], XW10[int(0.5 * NX + 1.96 * 0.5 * np.sqrt(NX))])\n",
    "print(np.median(OW10), OW10[int(0.5 * NO - 1.96 * 0.5 * np.sqrt(NO))], OW10[int(0.5 * NO + 1.96 * 0.5 * np.sqrt(NO))])\n",
    "print(scipy.stats.bootstrap((OW10,), np.median, method='percentile'))\n",
    "print(scipy.stats.bootstrap((OW10,), np.median, method='basic'))\n",
    "# print(scipy.stats.bootstrap((OW10,), np.median, method='percentile'))\n"
   ]
  },
  {
   "cell_type": "code",
   "execution_count": 275,
   "metadata": {},
   "outputs": [
    {
     "data": {
      "text/plain": [
       "<matplotlib.lines.Line2D at 0x12eda08f0>"
      ]
     },
     "execution_count": 275,
     "metadata": {},
     "output_type": "execute_result"
    },
    {
     "data": {
      "image/png": "[encoded data removed]",
      "text/plain": [
       "<Figure size 640x480 with 1 Axes>"
      ]
     },
     "metadata": {},
     "output_type": "display_data"
    }
   ],
   "source": [
    "tmp = scipy.stats.bootstrap((XW10,), np.median, method='percentile', n_resamples=100000)\n",
    "plt.hist(tmp.bootstrap_distribution)\n",
    "plt.axvline(np.median(XW10))"
   ]
  },
  {
   "cell_type": "code",
   "execution_count": 334,
   "metadata": {},
   "outputs": [
    {
     "name": "stdout",
     "output_type": "stream",
     "text": [
      "KstestResult(statistic=0.2512315270935961, pvalue=0.042950942250736604, statistic_location=11.622524208293001, statistic_sign=1)\n",
      "TtestResult(statistic=-1.553009000296322, pvalue=0.12324224565647689, df=112.0)\n",
      "TtestResult(statistic=-1.5541191398753091, pvalue=0.12297735126485973, df=111.9972150539472)\n"
     ]
    },
    {
     "data": {
      "image/png": "[encoded data removed]",
      "text/plain": [
       "<Figure size 640x480 with 1 Axes>"
      ]
     },
     "metadata": {},
     "output_type": "display_data"
    }
   ],
   "source": [
    "sns.histplot({'O': OW10, 'X':XW10}, kde=True, alpha=0.7, stat='density', palette=\"tab10\", multiple=\"dodge\", binrange=(0, 50), common_norm=False)\n",
    "plt.ylabel('Density', fontsize=14)\n",
    "print(scipy.stats.kstest(XW10, OW10))\n",
    "print(scipy.stats.ttest_ind(XW10, OW10))\n",
    "print(scipy.stats.ttest_ind(XW10, OW10, equal_var=False))\n",
    "print(scipy.stats.per)\n",
    "plt.xlabel(r'$W_{10}^\\degree \\cdot \\sqrt{P}$', fontsize=14)\n",
    "plt.savefig('MeerKAT_mode_comparison_manual.png', dpi=400, bbox_inches='tight')"
   ]
  },
  {
   "cell_type": "code",
   "execution_count": 162,
   "metadata": {},
   "outputs": [
    {
     "data": {
      "image/png": "[encoded data removed]",
      "text/plain": [
       "<Figure size 640x480 with 1 Axes>"
      ]
     },
     "metadata": {},
     "output_type": "display_data"
    }
   ],
   "source": [
    "sns.ecdfplot({'O': OW10, 'X':XW10}, palette='tab10')\n",
    "plt.ylabel('CDF', fontsize=14)\n",
    "plt.xlabel(r'$W_{10}^\\degree \\cdot \\sqrt{P}$', fontsize=14)\n",
    "# plt.savefig('MeerKAT_CDF_manual.png', dpi=400, bbox_inches='tight')"
   ]
  },
  {
   "cell_type": "code",
   "execution_count": 313,
   "metadata": {},
   "outputs": [
    {
     "data": {
      "image/png": "[encoded data removed]",
      "text/plain": [
       "<Figure size 640x480 with 1 Axes>"
      ]
     },
     "metadata": {},
     "output_type": "display_data"
    }
   ],
   "source": [
    "tmp = plt.hist(XW10, cumulative=True, bins=40, density=True)\n",
    "vals = tmp[0]\n",
    "widths = tmp[1][0:-1]"
   ]
  },
  {
   "cell_type": "code",
   "execution_count": 333,
   "metadata": {},
   "outputs": [
    {
     "name": "stdout",
     "output_type": "stream",
     "text": [
      "[10. 10.]\n"
     ]
    },
    {
     "data": {
      "text/plain": [
       "[<matplotlib.lines.Line2D at 0x13236ae10>]"
      ]
     },
     "execution_count": 333,
     "metadata": {},
     "output_type": "execute_result"
    },
    {
     "data": {
      "image/png": "[encoded data removed]",
      "text/plain": [
       "<Figure size 640x480 with 1 Axes>"
      ]
     },
     "metadata": {},
     "output_type": "display_data"
    }
   ],
   "source": [
    "plt.scatter(widths, vals)\n",
    "plt.scatter(widths[10:], vals[10:])\n",
    "def fit_func(t, t0, a):\n",
    "    return 1-a * (t - t0)**(-2)\n",
    "popt, pcov = scipy.optimize.curve_fit(fit_func, widths[10:], vals[10:], bounds=((0, 0), (10, 10)))\n",
    "print(popt)\n",
    "plt.plot(widths[10:], fit_func(widths[10:], *popt))\n",
    "# plt.plot(widths[8:], 0.5 * widths[8:]**2)\n",
    "# plt.xscale('log')\n",
    "# plt.yscale('log')"
   ]
  },
  {
   "cell_type": "code",
   "execution_count": null,
   "metadata": {},
   "outputs": [],
   "source": [
    "profile = PulsarProfile(data.loc['J1921+1419']['FASTfile_name'], 'FAST')\n",
    "profile.plot_profile(plot_fit=True)\n",
    "print(profile.find_peaks()/profile.Ncounts)\n",
    "print(profile.get_Wa(10))\n",
    "print(profile.get_mode())\n",
    "print(profile.get_level_bounds(10)[0]/profile.Ncounts, profile.get_level_bounds(10)[1]/profile.Ncounts)\n"
   ]
  },
  {
   "cell_type": "code",
   "execution_count": null,
   "metadata": {},
   "outputs": [],
   "source": [
    "profile = PulsarProfile(data.loc['J1525-5417']['MeerKATfile_name'], 'MeerKAT')\n",
    "profile.plot_profile(plot_fit=True)\n",
    "print(profile.find_peaks()/profile.Ncounts)\n",
    "print(profile.get_Wa(10))\n",
    "print(profile.get_mode())\n",
    "print(profile.get_level_bounds(10)[0]/profile.Ncounts, profile.get_level_bounds(10)[1]/profile.Ncounts)\n"
   ]
  },
  {
   "cell_type": "markdown",
   "metadata": {},
   "source": [
    "\n",
    "# To plot"
   ]
  },
  {
   "cell_type": "code",
   "execution_count": null,
   "metadata": {},
   "outputs": [],
   "source": [
    "profile_data = read_profile_data(FASTProfiles.loc['J1851+0118']['FASTfile_name'], 'FAST')\n",
    "print(find_profile_type(profile_data[0]))\n",
    "# profile_data[0] = scipy.ndimage.gaussian_filter1d(profile_data[0], profile_data[0].shape[0] // 500 + 1, mode='nearest')\n",
    "phase = np.linspace(-0.5, 0.5, profile_data[0].shape[0])\n",
    "noise = noise_estimation(profile_data[0])\n",
    "spl = scipy.interpolate.splrep(phase, profile_data[0], s=profile_data[0].shape[0]*noise**2)\n",
    "I_func = scipy.interpolate.BSpline(*spl)\n",
    "plt.plot(phase, profile_data[0])\n",
    "plt.plot(phase, profile_data[1])\n",
    "plt.plot(phase, profile_data[2])\n",
    "plt.plot(phase, I_func(phase))\n",
    "peaks = find_peaks_number(profile_data[0])\n",
    "# # print(find_peaks_number(I_func(phase)))\n",
    "# # peaks, info = scipy.signal.find_peaks(I_func(phase), prominence=np.max(profile_data[0] * 0.05), height=4 * noise)\n",
    "# print(noise_estimation(profile_data[0])*4)\n",
    "for peak in peaks:\n",
    "    plt.axvline(phase[peak], c='r')"
   ]
  },
  {
   "cell_type": "markdown",
   "metadata": {},
   "source": [
    "## Mean angles estimation"
   ]
  },
  {
   "cell_type": "code",
   "execution_count": null,
   "metadata": {},
   "outputs": [],
   "source": [
    "MeerKATsubset = data[data.index.isin(MeerKATnames)].copy()\n",
    "FASTsubset = data[data.index.isin(FASTnames)].copy()\n",
    "print(MeerKATsubset[MeerKATsubset['P0'] <= 0.033].shape)\n",
    "print(MeerKATsubset[(MeerKATsubset['P0'] > 0.033) & (MeerKATsubset['P0'] <= 0.5)].shape)\n",
    "print(MeerKATsubset[(MeerKATsubset['P0'] > 0.5) & (MeerKATsubset['P0'] <= 1.0)].shape)\n",
    "print(MeerKATsubset[MeerKATsubset['P0'] > 1.0].shape)"
   ]
  },
  {
   "cell_type": "code",
   "execution_count": null,
   "metadata": {},
   "outputs": [],
   "source": [
    "MeerKATsubset['CHI'] = np.arcsin(5 * MeerKATsubset['P0']**(-0.5) / MeerKATsubset['W50']) * 180 / np.pi\n",
    "FASTsubset['CHI'] = np.arcsin(5 * FASTsubset['P0']**(-0.5) / FASTsubset['W50']) * 180 / np.pi\n"
   ]
  },
  {
   "cell_type": "code",
   "execution_count": null,
   "metadata": {},
   "outputs": [],
   "source": []
  },
  {
   "cell_type": "code",
   "execution_count": null,
   "metadata": {},
   "outputs": [],
   "source": [
    "Ps = np.arange(0, 2.1, 0.5)\n",
    "\n",
    "av_chis = np.zeros(Ps.shape[0]-1)\n",
    "av_chisXs = np.zeros(Ps.shape[0]-1)\n",
    "av_chisOs = np.zeros(Ps.shape[0]-1)\n",
    "Ns_all = np.zeros(Ps.shape[0]-1)\n",
    "Ns_Os = np.zeros(Ps.shape[0]-1)\n",
    "Ns_Xs = np.zeros(Ps.shape[0]-1)\n",
    "\n",
    "for i in range(Ps.shape[0]-1):\n",
    "    av_chisXs[i] = MeerKATXs[(MeerKATXs['P0'] >= Ps[i]) & (MeerKATXs['P0'] < Ps[i+1])]['CHI'].mean()\n",
    "    Ns_Xs[i] =  MeerKATXs[(MeerKATXs['P0'] >= Ps[i]) & (MeerKATXs['P0'] < Ps[i+1])].count()['CHI']\n",
    "    av_chisOs[i] = MeerKATOs[(MeerKATOs['P0'] >= Ps[i]) & (MeerKATOs['P0'] < Ps[i+1])]['CHI'].mean()\n",
    "    Ns_Os[i] =  MeerKATOs[(MeerKATOs['P0'] >= Ps[i]) & (MeerKATOs['P0'] < Ps[i+1])].count()['CHI']\n",
    "    av_chis[i] = MeerKATsubset[(MeerKATsubset['P0'] >= Ps[i]) & (MeerKATsubset['P0'] < Ps[i+1])]['CHI'].mean()\n",
    "    Ns_all[i] = MeerKATsubset[(MeerKATsubset['P0'] >= Ps[i]) & (MeerKATsubset['P0'] < Ps[i+1])].count()['CHI']\n",
    "    \n",
    "    "
   ]
  },
  {
   "cell_type": "code",
   "execution_count": null,
   "metadata": {},
   "outputs": [],
   "source": [
    "plt.errorbar(Ps[:-1], av_chis, 15/np.sqrt(Ns_all), c='orange', label='All', fmt='o', capsize=3)\n",
    "plt.errorbar(Ps[:-1], av_chisXs, 15/np.sqrt(Ns_Xs), c='blue', label='X', fmt='o', capsize=3)\n",
    "plt.errorbar(Ps[:-1], av_chisOs, 15/np.sqrt(Ns_Os), c='green', label='O', fmt='o', capsize=3)\n",
    "\n",
    "plt.xlabel('P', size=14)\n",
    "plt.ylabel(r'$<\\chi>$', size=14)\n",
    "plt.title('MeerKAT', size=18)\n",
    "plt.legend()\n",
    "plt.savefig('MeerKAT_mean_angles.png', dpi=400)"
   ]
  },
  {
   "cell_type": "code",
   "execution_count": null,
   "metadata": {},
   "outputs": [],
   "source": [
    "Ps = np.arange(0, 2.1, 0.5)\n",
    "\n",
    "av_chis = np.zeros(Ps.shape[0]-1)\n",
    "av_chisXs = np.zeros(Ps.shape[0]-1)\n",
    "av_chisOs = np.zeros(Ps.shape[0]-1)\n",
    "Ns_all = np.zeros(Ps.shape[0]-1)\n",
    "Ns_Os = np.zeros(Ps.shape[0]-1)\n",
    "Ns_Xs = np.zeros(Ps.shape[0]-1)\n",
    "\n",
    "for i in range(Ps.shape[0]-1):\n",
    "    av_chisXs[i] = FASTXs[(FASTXs['P0'] >= Ps[i]) & (FASTXs['P0'] < Ps[i+1])]['CHI'].mean()\n",
    "    Ns_Xs[i] =  FASTXs[(FASTXs['P0'] >= Ps[i]) & (FASTXs['P0'] < Ps[i+1])].count()['CHI']\n",
    "    av_chisOs[i] = FASTOs[(FASTOs['P0'] >= Ps[i]) & (FASTOs['P0'] < Ps[i+1])]['CHI'].mean()\n",
    "    Ns_Os[i] =  FASTOs[(FASTOs['P0'] >= Ps[i]) & (FASTOs['P0'] < Ps[i+1])].count()['CHI']\n",
    "    av_chis[i] = FASTsubset[(FASTsubset['P0'] >= Ps[i]) & (FASTsubset['P0'] < Ps[i+1])]['CHI'].mean()\n",
    "    Ns_all[i] = FASTsubset[(FASTsubset['P0'] >= Ps[i]) & (FASTsubset['P0'] < Ps[i+1])].count()['CHI']\n",
    "    \n",
    "    "
   ]
  },
  {
   "cell_type": "code",
   "execution_count": null,
   "metadata": {},
   "outputs": [],
   "source": [
    "plt.errorbar(Ps[:-1], av_chisXs, 15/np.sqrt(Ns_Xs), c='blue', label='X', fmt='o', capsize=3)\n",
    "plt.errorbar(Ps[:-1], av_chisOs, 15/np.sqrt(Ns_Os), c='green', label='O', fmt='o', capsize=3)\n",
    "plt.errorbar(Ps[:-1], av_chis, 15/np.sqrt(Ns_all), c='orange', label='All', fmt='o', capsize=3)\n",
    "\n",
    "plt.xlabel('P', size=14)\n",
    "plt.ylabel(r'$<\\chi>$', size=14)\n",
    "plt.title('FAST', size=18)\n",
    "plt.legend()\n",
    "plt.savefig('FAST_mean_angles.png', dpi=400)"
   ]
  },
  {
   "cell_type": "markdown",
   "metadata": {},
   "source": [
    "## Orthogonals analysis"
   ]
  },
  {
   "cell_type": "code",
   "execution_count": 409,
   "metadata": {},
   "outputs": [],
   "source": [
    "MeerKATsubset = data[data.index.isin(MeerKATnames)].copy()\n",
    "orthogonalMeerKATs = data[data.index.isin(orthogonal_PSRs_MeerKAT)].copy()\n",
    "FASTsubset = data[data.index.isin(FASTnames)].copy()\n",
    "orthogonalFASTs = data[data.index.isin(orthogonal_PSRs_FAST)].copy()"
   ]
  },
  {
   "cell_type": "code",
   "execution_count": 412,
   "metadata": {},
   "outputs": [
    {
     "name": "stdout",
     "output_type": "stream",
     "text": [
      "0\n",
      "2\n",
      "7\n",
      "9\n",
      "6\n",
      "1\n",
      "4\n"
     ]
    }
   ],
   "source": [
    "print(len(orthogonalMeerKATs[(orthogonalMeerKATs['P0'] < 0.03)]))\n",
    "print(len(orthogonalMeerKATs[(orthogonalMeerKATs['P0'] > 0.03) & (orthogonalMeerKATs['P0'] < 0.1)]))\n",
    "print(len(orthogonalMeerKATs[(orthogonalMeerKATs['P0'] > 0.1) & (orthogonalMeerKATs['P0'] < 0.2)]))\n",
    "print(len(orthogonalMeerKATs[(orthogonalMeerKATs['P0'] > 0.2) & (orthogonalMeerKATs['P0'] < 0.3)]))\n",
    "print(len(orthogonalMeerKATs[(orthogonalMeerKATs['P0'] > 0.3) & (orthogonalMeerKATs['P0'] < 0.4)]))\n",
    "print(len(orthogonalMeerKATs[(orthogonalMeerKATs['P0'] > 0.4) & (orthogonalMeerKATs['P0'] < 0.5)]))\n",
    "print(len(orthogonalMeerKATs[(orthogonalMeerKATs['P0'] > 0.5)]))"
   ]
  },
  {
   "cell_type": "code",
   "execution_count": 413,
   "metadata": {},
   "outputs": [
    {
     "name": "stdout",
     "output_type": "stream",
     "text": [
      "13\n",
      "1\n",
      "5\n",
      "6\n",
      "3\n",
      "2\n",
      "4\n"
     ]
    }
   ],
   "source": [
    "print(len(orthogonalFASTs[(orthogonalFASTs['P0'] < 0.03)]))\n",
    "print(len(orthogonalFASTs[(orthogonalFASTs['P0'] > 0.03) & (orthogonalFASTs['P0'] < 0.1)]))\n",
    "print(len(orthogonalFASTs[(orthogonalFASTs['P0'] > 0.1) & (orthogonalFASTs['P0'] < 0.2)]))\n",
    "print(len(orthogonalFASTs[(orthogonalFASTs['P0'] > 0.2) & (orthogonalFASTs['P0'] < 0.3)]))\n",
    "print(len(orthogonalFASTs[(orthogonalFASTs['P0'] > 0.3) & (orthogonalFASTs['P0'] < 0.4)]))\n",
    "print(len(orthogonalFASTs[(orthogonalFASTs['P0'] > 0.4) & (orthogonalFASTs['P0'] < 0.5)]))\n",
    "print(len(orthogonalFASTs[(orthogonalFASTs['P0'] > 0.5)]))"
   ]
  },
  {
   "cell_type": "code",
   "execution_count": 431,
   "metadata": {},
   "outputs": [
    {
     "name": "stdout",
     "output_type": "stream",
     "text": [
      "MeerKAT\n",
      "0.8264462809917356\n",
      "1\n",
      "121\n",
      "FAST\n",
      "3.6363636363636362\n",
      "2\n",
      "55\n"
     ]
    }
   ],
   "source": [
    "P1 = 0.4\n",
    "P2 = 0.5\n",
    "print('MeerKAT')\n",
    "print(len(orthogonalMeerKATs[(orthogonalMeerKATs['P0'] > P1) & (orthogonalMeerKATs['P0'] < P2)]) / (len(MeerKATsubset[(MeerKATsubset['P0'] > P1) & (MeerKATsubset['P0'] < P2)]))*100)\n",
    "print(len(orthogonalMeerKATs[(orthogonalMeerKATs['P0'] > P1) & (orthogonalMeerKATs['P0'] < P2)]))\n",
    "print((len(MeerKATsubset[(MeerKATsubset['P0'] > P1) & (MeerKATsubset['P0'] < P2)])))\n",
    "print('FAST')\n",
    "print(len(orthogonalFASTs[(orthogonalFASTs['P0'] > P1) & (orthogonalFASTs['P0'] < P2)]) / (len(FASTsubset[(FASTsubset['P0'] > P1) & (FASTsubset['P0'] < P2)]))*100)\n",
    "print(len(orthogonalFASTs[(orthogonalFASTs['P0'] > P1) & (orthogonalFASTs['P0'] < P2)]))\n",
    "print(len(FASTsubset[(FASTsubset['P0'] > P1) & (FASTsubset['P0'] < P2)]))\n"
   ]
  },
  {
   "cell_type": "code",
   "execution_count": null,
   "metadata": {},
   "outputs": [],
   "source": [
    "MeerKATdivs = []\n",
    "for psr in orthogonal_PSRs_MeerKAT:\n",
    "    profile = PulsarProfile(MeerKATProfiles.loc[psr]['MeerKATfile_name'], 'MeerKAT')\n",
    "    peaks = profile.find_peaks()\n",
    "    MeerKATdivs.append(np.min(peaks) / np.max(peaks))\n"
   ]
  },
  {
   "cell_type": "code",
   "execution_count": null,
   "metadata": {},
   "outputs": [],
   "source": [
    "FASTdivs = []\n",
    "for psr in orthogonal_PSRs_FAST:\n",
    "    profile = PulsarProfile(FASTProfiles.loc[psr]['FASTfile_name'], 'FAST')\n",
    "    peaks = profile.find_peaks()\n",
    "    FASTdivs.append(np.min(peaks) / np.max(peaks))\n"
   ]
  },
  {
   "cell_type": "code",
   "execution_count": null,
   "metadata": {},
   "outputs": [],
   "source": [
    "print(f'FAST median = {np.median(FASTdivs)}, MeerKAT median = {np.median(MeerKATdivs)}')"
   ]
  },
  {
   "cell_type": "code",
   "execution_count": null,
   "metadata": {},
   "outputs": [],
   "source": [
    "plt.hist(FASTdivs)\n",
    "plt.hist(MeerKATdivs)"
   ]
  },
  {
   "cell_type": "code",
   "execution_count": null,
   "metadata": {},
   "outputs": [],
   "source": [
    "import DataLoaders"
   ]
  },
  {
   "cell_type": "code",
   "execution_count": null,
   "metadata": {},
   "outputs": [],
   "source": [
    "test_profile = DataLoaders.load_MeerKAT_mean_data(data.loc['J0835-3707']['MeerKATfile_name'])"
   ]
  },
  {
   "cell_type": "code",
   "execution_count": null,
   "metadata": {},
   "outputs": [],
   "source": [
    "# plt.plot(test_profile[0])\n",
    "fft_vals = scipy.fft.fft(test_profile[0])"
   ]
  },
  {
   "cell_type": "code",
   "execution_count": null,
   "metadata": {},
   "outputs": [],
   "source": []
  }
 ],
 "metadata": {
  "kernelspec": {
   "display_name": "Python 3 (ipykernel)",
   "language": "python",
   "name": "python3"
  },
  "language_info": {
   "codemirror_mode": {
    "name": "ipython",
    "version": 3
   },
   "file_extension": ".py",
   "mimetype": "text/x-python",
   "name": "python",
   "nbconvert_exporter": "python",
   "pygments_lexer": "ipython3",
   "version": "3.12.1"
  }
 },
 "nbformat": 4,
 "nbformat_minor": 4
}
